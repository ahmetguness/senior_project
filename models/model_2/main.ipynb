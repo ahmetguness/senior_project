{
 "cells": [
  {
   "cell_type": "code",
   "execution_count": 9,
   "id": "8dc7c1c7-91dc-4ca0-b13b-2f660871748a",
   "metadata": {},
   "outputs": [],
   "source": [
    "import os\n",
    "import copy\n",
    "import torch\n",
    "import torch.nn as nn\n",
    "import torch.optim as optim\n",
    "from torchvision import datasets, transforms, models\n",
    "from torch.utils.data import DataLoader\n",
    "from sklearn.metrics import precision_recall_fscore_support\n",
    "from torch.optim.lr_scheduler import StepLR"
   ]
  },
  {
   "cell_type": "code",
   "execution_count": 10,
   "id": "d7632635-f044-4ab1-9790-6f7cc1779865",
   "metadata": {},
   "outputs": [],
   "source": [
    "# Veri seti yolunu belirleyin\n",
    "train_dir = 'D:/bitirme/fer_dataset/train'\n",
    "test_dir = 'D:/bitirme/fer_dataset/test'"
   ]
  },
  {
   "cell_type": "code",
   "execution_count": 11,
   "id": "b671cb73-fe9a-4f62-98d4-57764ff50a95",
   "metadata": {},
   "outputs": [],
   "source": [
    "# Veri dönüşümleri ve veri artırma\n",
    "data_transforms = {\n",
    "    'train': transforms.Compose([\n",
    "        transforms.Grayscale(),\n",
    "        transforms.RandomHorizontalFlip(),\n",
    "        transforms.RandomRotation(10),\n",
    "        transforms.RandomResizedCrop(48, scale=(0.8, 1.0)),\n",
    "        transforms.ToTensor(),\n",
    "        transforms.Normalize((0.5,), (0.5,))\n",
    "    ]),\n",
    "    'test': transforms.Compose([\n",
    "        transforms.Grayscale(),\n",
    "        transforms.Resize((48, 48)),\n",
    "        transforms.ToTensor(),\n",
    "        transforms.Normalize((0.5,), (0.5,))\n",
    "    ]),\n",
    "}"
   ]
  },
  {
   "cell_type": "code",
   "execution_count": 12,
   "id": "31ca79ef-e4eb-4057-a328-4b8fe2e5afe3",
   "metadata": {},
   "outputs": [],
   "source": [
    "# Veri seti yükleme\n",
    "train_dataset = datasets.ImageFolder(train_dir, transform=data_transforms['train'])\n",
    "test_dataset = datasets.ImageFolder(test_dir, transform=data_transforms['test'])\n",
    "train_loader = DataLoader(train_dataset, batch_size=64, shuffle=True, num_workers=4)\n",
    "test_loader = DataLoader(test_dataset, batch_size=64, shuffle=False, num_workers=4)"
   ]
  },
  {
   "cell_type": "code",
   "execution_count": 13,
   "id": "cf5de66e-0436-4b39-a3dc-6e6c0c740111",
   "metadata": {},
   "outputs": [],
   "source": [
    "# Sınıf isimleri\n",
    "class_names = train_dataset.classes"
   ]
  },
  {
   "cell_type": "code",
   "execution_count": 16,
   "id": "20211c69-6e01-44c4-bc41-ceff64329b7d",
   "metadata": {},
   "outputs": [],
   "source": [
    "# Model tanımlama (EfficientNet)\n",
    "model = models.efficientnet_b0(pretrained=True)\n",
    "model.features[0][0] = nn.Conv2d(1, 32, kernel_size=3, stride=2, padding=1, bias=False)  # Giriş katmanını gri tonlamalı resimlere uyarlamak\n",
    "model.classifier[1] = nn.Linear(model.classifier[1].in_features, len(class_names))  # Çıkış katmanını sınıf sayısına uyarlamak"
   ]
  },
  {
   "cell_type": "code",
   "execution_count": 17,
   "id": "edd11ed8-98ce-42fa-a95d-8a4ad0509cd8",
   "metadata": {},
   "outputs": [],
   "source": [
    "# Cihaz belirleme (GPU kullanımı için)\n",
    "device = torch.device('cuda' if torch.cuda.is_available() else 'cpu')\n",
    "model = model.to(device)"
   ]
  },
  {
   "cell_type": "code",
   "execution_count": 18,
   "id": "53bc7b1b-547f-46df-ab37-d03d02029ca4",
   "metadata": {},
   "outputs": [],
   "source": [
    "# Kayıp fonksiyonu ve optimizasyon algoritması\n",
    "criterion = nn.CrossEntropyLoss()\n",
    "optimizer = optim.Adam(model.parameters(), lr=0.001)\n",
    "scheduler = StepLR(optimizer, step_size=7, gamma=0.1)"
   ]
  },
  {
   "cell_type": "code",
   "execution_count": 19,
   "id": "2d958f83-6deb-4124-a407-53221b8cf45b",
   "metadata": {},
   "outputs": [],
   "source": [
    "# Eğitim fonksiyonu\n",
    "def train_model(model, criterion, optimizer, scheduler, num_epochs=25):\n",
    "    best_model_wts = copy.deepcopy(model.state_dict())\n",
    "    best_f1 = 0.0\n",
    "\n",
    "    for epoch in range(num_epochs):\n",
    "        print(f'Epoch {epoch+1}/{num_epochs}')\n",
    "        print('-' * 10)\n",
    "\n",
    "        model.train()\n",
    "        running_loss = 0.0\n",
    "\n",
    "        for inputs, labels in train_loader:\n",
    "            inputs = inputs.to(device)\n",
    "            labels = labels.to(device)\n",
    "\n",
    "            optimizer.zero_grad()\n",
    "            outputs = model(inputs)\n",
    "            loss = criterion(outputs, labels)\n",
    "            loss.backward()\n",
    "            optimizer.step()\n",
    "\n",
    "            running_loss += loss.item() * inputs.size(0)\n",
    "\n",
    "        scheduler.step()\n",
    "\n",
    "        epoch_loss = running_loss / len(train_dataset)\n",
    "        print(f'Loss: {epoch_loss:.4f}')\n",
    "\n",
    "        # Performans değerlendirmesi\n",
    "        model.eval()\n",
    "        all_preds = []\n",
    "        all_labels = []\n",
    "\n",
    "        with torch.no_grad():\n",
    "            for inputs, labels in test_loader:\n",
    "                inputs = inputs.to(device)\n",
    "                labels = labels.to(device)\n",
    "                outputs = model(inputs)\n",
    "                _, preds = torch.max(outputs, 1)\n",
    "                all_preds.extend(preds.cpu().numpy())\n",
    "                all_labels.extend(labels.cpu().numpy())\n",
    "\n",
    "        precision, recall, f1_score, _ = precision_recall_fscore_support(all_labels, all_preds, average='weighted')\n",
    "        print(f'Precision: {precision:.4f}, Recall: {recall:.4f}, F1-Score: {f1_score:.4f}')\n",
    "\n",
    "        # En iyi modeli kaydetme\n",
    "        if f1_score > best_f1:\n",
    "            best_f1 = f1_score\n",
    "            best_model_wts = copy.deepcopy(model.state_dict())\n",
    "\n",
    "    print(f'En iyi F1-Score: {best_f1:.4f}')\n",
    "    model.load_state_dict(best_model_wts)\n",
    "    return model"
   ]
  },
  {
   "cell_type": "code",
   "execution_count": 20,
   "id": "7b8af7e2-b968-471b-9b46-198473c1a2af",
   "metadata": {},
   "outputs": [
    {
     "name": "stdout",
     "output_type": "stream",
     "text": [
      "Epoch 1/25\n",
      "----------\n",
      "Loss: 1.5575\n",
      "Precision: 0.4398, Recall: 0.4733, F1-Score: 0.4274\n",
      "Epoch 2/25\n",
      "----------\n",
      "Loss: 1.2807\n",
      "Precision: 0.5191, Recall: 0.5285, F1-Score: 0.5082\n",
      "Epoch 3/25\n",
      "----------\n",
      "Loss: 1.1790\n",
      "Precision: 0.5639, Recall: 0.5376, F1-Score: 0.5256\n",
      "Epoch 4/25\n",
      "----------\n",
      "Loss: 1.1165\n",
      "Precision: 0.5883, Recall: 0.5786, F1-Score: 0.5723\n",
      "Epoch 5/25\n",
      "----------\n",
      "Loss: 1.0640\n",
      "Precision: 0.6064, Recall: 0.6027, F1-Score: 0.5977\n",
      "Epoch 6/25\n",
      "----------\n",
      "Loss: 1.0257\n",
      "Precision: 0.6125, Recall: 0.6143, F1-Score: 0.6114\n",
      "Epoch 7/25\n",
      "----------\n",
      "Loss: 0.9941\n",
      "Precision: 0.6042, Recall: 0.5991, F1-Score: 0.5890\n",
      "Epoch 8/25\n",
      "----------\n",
      "Loss: 0.8945\n",
      "Precision: 0.6295, Recall: 0.6327, F1-Score: 0.6269\n",
      "Epoch 9/25\n",
      "----------\n",
      "Loss: 0.8536\n",
      "Precision: 0.6266, Recall: 0.6328, F1-Score: 0.6270\n",
      "Epoch 10/25\n",
      "----------\n",
      "Loss: 0.8300\n",
      "Precision: 0.6316, Recall: 0.6387, F1-Score: 0.6315\n",
      "Epoch 11/25\n",
      "----------\n",
      "Loss: 0.8056\n",
      "Precision: 0.6334, Recall: 0.6375, F1-Score: 0.6328\n",
      "Epoch 12/25\n",
      "----------\n",
      "Loss: 0.7877\n",
      "Precision: 0.6337, Recall: 0.6392, F1-Score: 0.6330\n",
      "Epoch 13/25\n",
      "----------\n",
      "Loss: 0.7756\n",
      "Precision: 0.6369, Recall: 0.6413, F1-Score: 0.6363\n",
      "Epoch 14/25\n",
      "----------\n",
      "Loss: 0.7596\n",
      "Precision: 0.6400, Recall: 0.6423, F1-Score: 0.6384\n",
      "Epoch 15/25\n",
      "----------\n",
      "Loss: 0.7290\n",
      "Precision: 0.6415, Recall: 0.6437, F1-Score: 0.6399\n",
      "Epoch 16/25\n",
      "----------\n",
      "Loss: 0.7301\n",
      "Precision: 0.6419, Recall: 0.6448, F1-Score: 0.6405\n",
      "Epoch 17/25\n",
      "----------\n",
      "Loss: 0.7230\n",
      "Precision: 0.6379, Recall: 0.6424, F1-Score: 0.6378\n",
      "Epoch 18/25\n",
      "----------\n",
      "Loss: 0.7258\n",
      "Precision: 0.6399, Recall: 0.6447, F1-Score: 0.6401\n",
      "Epoch 19/25\n",
      "----------\n",
      "Loss: 0.7242\n",
      "Precision: 0.6383, Recall: 0.6420, F1-Score: 0.6381\n",
      "Epoch 20/25\n",
      "----------\n",
      "Loss: 0.7122\n",
      "Precision: 0.6430, Recall: 0.6436, F1-Score: 0.6409\n",
      "Epoch 21/25\n",
      "----------\n",
      "Loss: 0.7162\n",
      "Precision: 0.6425, Recall: 0.6443, F1-Score: 0.6416\n",
      "Epoch 22/25\n",
      "----------\n",
      "Loss: 0.7064\n",
      "Precision: 0.6439, Recall: 0.6464, F1-Score: 0.6424\n",
      "Epoch 23/25\n",
      "----------\n",
      "Loss: 0.7184\n",
      "Precision: 0.6400, Recall: 0.6419, F1-Score: 0.6387\n",
      "Epoch 24/25\n",
      "----------\n",
      "Loss: 0.7107\n",
      "Precision: 0.6427, Recall: 0.6465, F1-Score: 0.6424\n",
      "Epoch 25/25\n",
      "----------\n",
      "Loss: 0.7078\n",
      "Precision: 0.6392, Recall: 0.6427, F1-Score: 0.6389\n",
      "En iyi F1-Score: 0.6424\n"
     ]
    }
   ],
   "source": [
    "# Modeli eğit\n",
    "model = train_model(model, criterion, optimizer, scheduler, num_epochs=25)"
   ]
  },
  {
   "cell_type": "code",
   "execution_count": 25,
   "id": "225448a4-0931-4fb6-8cbd-9d652e1b20fe",
   "metadata": {},
   "outputs": [],
   "source": [
    "torch.save(model.state_dict(), 'emotion_recognition_model.pth')"
   ]
  },
  {
   "cell_type": "code",
   "execution_count": 26,
   "id": "c184e123-07a4-48e9-be11-e9b7f24228f3",
   "metadata": {},
   "outputs": [],
   "source": [
    "# Modelin performansını test etme\n",
    "model.eval()\n",
    "all_preds = []\n",
    "all_labels = []\n",
    "\n",
    "with torch.no_grad():\n",
    "    for inputs, labels in test_loader:\n",
    "        inputs = inputs.to(device)\n",
    "        labels = labels.to(device)\n",
    "        outputs = model(inputs)\n",
    "        _, preds = torch.max(outputs, 1)\n",
    "        all_preds.extend(preds.cpu().numpy())\n",
    "        all_labels.extend(labels.cpu().numpy())"
   ]
  },
  {
   "cell_type": "code",
   "execution_count": 28,
   "id": "f11cdf30-eb75-4fab-92d7-d1b1a70daea1",
   "metadata": {},
   "outputs": [
    {
     "name": "stdout",
     "output_type": "stream",
     "text": [
      "Test Precision: 0.6463\n",
      "Test Recall: 0.6495\n",
      "Test F1-Score: 0.6448\n"
     ]
    }
   ],
   "source": [
    "# Precision, Recall, F1-Score hesaplama\n",
    "precision, recall, f1_score, _ = precision_recall_fscore_support(all_labels, all_preds, average='weighted')\n",
    "\n",
    "print(f'Test Precision: {precision:.4f}')\n",
    "print(f'Test Recall: {recall:.4f}')\n",
    "print(f'Test F1-Score: {f1_score:.4f}')"
   ]
  },
  {
   "cell_type": "code",
   "execution_count": null,
   "id": "47d56017-0655-46da-8021-68274e59d264",
   "metadata": {},
   "outputs": [],
   "source": []
  },
  {
   "cell_type": "code",
   "execution_count": null,
   "id": "98c426de-93d7-4993-bf8e-88960caa1701",
   "metadata": {},
   "outputs": [],
   "source": []
  }
 ],
 "metadata": {
  "kernelspec": {
   "display_name": "Python 3 (ipykernel)",
   "language": "python",
   "name": "python3"
  },
  "language_info": {
   "codemirror_mode": {
    "name": "ipython",
    "version": 3
   },
   "file_extension": ".py",
   "mimetype": "text/x-python",
   "name": "python",
   "nbconvert_exporter": "python",
   "pygments_lexer": "ipython3",
   "version": "3.12.2"
  }
 },
 "nbformat": 4,
 "nbformat_minor": 5
}
