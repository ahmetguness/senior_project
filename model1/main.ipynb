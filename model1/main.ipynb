{
  "nbformat": 4,
  "nbformat_minor": 0,
  "metadata": {
    "colab": {
      "provenance": []
    },
    "kernelspec": {
      "name": "python3",
      "display_name": "Python 3"
    },
    "language_info": {
      "name": "python"
    }
  },
  "cells": [
    {
      "cell_type": "code",
      "source": [
        "import numpy as np\n",
        "from keras.preprocessing.image import ImageDataGenerator\n",
        "from keras.models import Sequential\n",
        "from keras.layers import Conv2D, MaxPooling2D, Flatten, Dense, Dropout\n",
        "from keras.optimizers import Adam"
      ],
      "metadata": {
        "id": "rS2goHVqtPqj"
      },
      "execution_count": 44,
      "outputs": []
    },
    {
      "cell_type": "code",
      "source": [
        "train_data_dir = '/content/drive/MyDrive/fer/fer_dataset/train'\n",
        "validation_data_dir = '/content/drive/MyDrive/fer/fer_dataset/test'"
      ],
      "metadata": {
        "id": "udIKHZ9MtQlA"
      },
      "execution_count": 45,
      "outputs": []
    },
    {
      "cell_type": "code",
      "source": [
        "img_width, img_height = 48, 48\n",
        "batch_size = 32\n",
        "epochs = 20\n",
        "num_classes = 7"
      ],
      "metadata": {
        "id": "Z2MsXedYtSfh"
      },
      "execution_count": 46,
      "outputs": []
    },
    {
      "cell_type": "code",
      "source": [
        "train_datagen = ImageDataGenerator(rescale=1./255,\n",
        "                                   shear_range=0.2,\n",
        "                                   zoom_range=0.2,\n",
        "                                   horizontal_flip=True)\n",
        "\n",
        "test_datagen = ImageDataGenerator(rescale=1./255)\n",
        "\n",
        "train_generator = train_datagen.flow_from_directory(train_data_dir,\n",
        "                                                    target_size=(img_width, img_height),\n",
        "                                                    batch_size=batch_size,\n",
        "                                                    color_mode='grayscale',\n",
        "                                                    class_mode='categorical')\n",
        "\n",
        "validation_generator = test_datagen.flow_from_directory(validation_data_dir,\n",
        "                                                        target_size=(img_width, img_height),\n",
        "                                                        batch_size=batch_size,\n",
        "                                                        color_mode='grayscale',\n",
        "                                                        class_mode='categorical')\n"
      ],
      "metadata": {
        "colab": {
          "base_uri": "https://localhost:8080/"
        },
        "id": "mB049ANrtTTh",
        "outputId": "0c91d1d5-cca5-40c3-98bd-064b6641b9a8"
      },
      "execution_count": 47,
      "outputs": [
        {
          "output_type": "stream",
          "name": "stdout",
          "text": [
            "Found 28716 images belonging to 7 classes.\n",
            "Found 7178 images belonging to 7 classes.\n"
          ]
        }
      ]
    },
    {
      "cell_type": "code",
      "source": [
        "model = Sequential()\n",
        "\n",
        "model.add(Conv2D(32, (3, 3), activation='relu', input_shape=(img_width, img_height, 1)))\n",
        "model.add(MaxPooling2D((2, 2)))\n",
        "\n",
        "model.add(Conv2D(64, (3, 3), activation='relu'))\n",
        "model.add(MaxPooling2D((2, 2)))\n",
        "\n",
        "model.add(Conv2D(128, (3, 3), activation='relu'))\n",
        "model.add(MaxPooling2D((2, 2)))\n",
        "\n",
        "model.add(Flatten())\n",
        "\n",
        "model.add(Dense(128, activation='relu'))\n",
        "model.add(Dropout(0.5))\n",
        "\n",
        "model.add(Dense(num_classes, activation='softmax'))"
      ],
      "metadata": {
        "id": "0_ZPrX8ltXwh"
      },
      "execution_count": 48,
      "outputs": []
    },
    {
      "cell_type": "code",
      "source": [
        "model.compile(optimizer=Adam(lr=0.0001),\n",
        "              loss='categorical_crossentropy',\n",
        "              metrics=['accuracy'])"
      ],
      "metadata": {
        "colab": {
          "base_uri": "https://localhost:8080/"
        },
        "id": "LOYJkUK1tZfY",
        "outputId": "ce02ff36-eccf-406b-e0f5-1d13046420bb"
      },
      "execution_count": 49,
      "outputs": [
        {
          "output_type": "stream",
          "name": "stderr",
          "text": [
            "WARNING:absl:`lr` is deprecated in Keras optimizer, please use `learning_rate` or use the legacy optimizer, e.g.,tf.keras.optimizers.legacy.Adam.\n"
          ]
        }
      ]
    },
    {
      "cell_type": "code",
      "source": [
        "model.fit(train_generator,\n",
        "          steps_per_epoch=train_generator.samples // batch_size,\n",
        "          epochs=epochs,\n",
        "          validation_data=validation_generator,\n",
        "          validation_steps=validation_generator.samples // batch_size)"
      ],
      "metadata": {
        "colab": {
          "base_uri": "https://localhost:8080/"
        },
        "id": "_KkMSrF6ta4Z",
        "outputId": "fc883aa0-5cf3-4f33-e9d7-5f8ce77a690f"
      },
      "execution_count": 50,
      "outputs": [
        {
          "output_type": "stream",
          "name": "stdout",
          "text": [
            "Epoch 1/20\n",
            "897/897 [==============================] - 13107s 15s/step - loss: 1.7676 - accuracy: 0.2753 - val_loss: 1.6218 - val_accuracy: 0.3564\n",
            "Epoch 2/20\n",
            "897/897 [==============================] - 225s 251ms/step - loss: 1.6003 - accuracy: 0.3677 - val_loss: 1.4267 - val_accuracy: 0.4487\n",
            "Epoch 3/20\n",
            "897/897 [==============================] - 222s 247ms/step - loss: 1.4699 - accuracy: 0.4310 - val_loss: 1.3351 - val_accuracy: 0.4891\n",
            "Epoch 4/20\n",
            "897/897 [==============================] - 230s 256ms/step - loss: 1.4031 - accuracy: 0.4602 - val_loss: 1.3002 - val_accuracy: 0.4960\n",
            "Epoch 5/20\n",
            "897/897 [==============================] - 228s 254ms/step - loss: 1.3675 - accuracy: 0.4801 - val_loss: 1.2669 - val_accuracy: 0.5169\n",
            "Epoch 6/20\n",
            "897/897 [==============================] - 224s 249ms/step - loss: 1.3358 - accuracy: 0.4916 - val_loss: 1.2288 - val_accuracy: 0.5222\n",
            "Epoch 7/20\n",
            "897/897 [==============================] - 230s 256ms/step - loss: 1.3095 - accuracy: 0.5017 - val_loss: 1.2451 - val_accuracy: 0.5244\n",
            "Epoch 8/20\n",
            "897/897 [==============================] - 233s 259ms/step - loss: 1.2877 - accuracy: 0.5127 - val_loss: 1.2240 - val_accuracy: 0.5329\n",
            "Epoch 9/20\n",
            "897/897 [==============================] - 224s 250ms/step - loss: 1.2689 - accuracy: 0.5185 - val_loss: 1.2163 - val_accuracy: 0.5326\n",
            "Epoch 10/20\n",
            "897/897 [==============================] - 223s 249ms/step - loss: 1.2574 - accuracy: 0.5207 - val_loss: 1.1700 - val_accuracy: 0.5453\n",
            "Epoch 11/20\n",
            "897/897 [==============================] - 234s 261ms/step - loss: 1.2404 - accuracy: 0.5297 - val_loss: 1.1613 - val_accuracy: 0.5579\n",
            "Epoch 12/20\n",
            "897/897 [==============================] - 234s 261ms/step - loss: 1.2300 - accuracy: 0.5372 - val_loss: 1.1586 - val_accuracy: 0.5550\n",
            "Epoch 13/20\n",
            "897/897 [==============================] - 222s 248ms/step - loss: 1.2200 - accuracy: 0.5402 - val_loss: 1.1614 - val_accuracy: 0.5552\n",
            "Epoch 14/20\n",
            "897/897 [==============================] - 230s 257ms/step - loss: 1.2099 - accuracy: 0.5430 - val_loss: 1.1594 - val_accuracy: 0.5491\n",
            "Epoch 15/20\n",
            "897/897 [==============================] - 220s 245ms/step - loss: 1.1995 - accuracy: 0.5461 - val_loss: 1.1697 - val_accuracy: 0.5518\n",
            "Epoch 16/20\n",
            "897/897 [==============================] - 234s 261ms/step - loss: 1.1936 - accuracy: 0.5508 - val_loss: 1.1331 - val_accuracy: 0.5688\n",
            "Epoch 17/20\n",
            "897/897 [==============================] - 273s 305ms/step - loss: 1.1781 - accuracy: 0.5565 - val_loss: 1.1349 - val_accuracy: 0.5643\n",
            "Epoch 18/20\n",
            "897/897 [==============================] - 233s 260ms/step - loss: 1.1754 - accuracy: 0.5558 - val_loss: 1.1225 - val_accuracy: 0.5751\n",
            "Epoch 19/20\n",
            "897/897 [==============================] - 222s 247ms/step - loss: 1.1693 - accuracy: 0.5559 - val_loss: 1.1421 - val_accuracy: 0.5681\n",
            "Epoch 20/20\n",
            "897/897 [==============================] - 233s 260ms/step - loss: 1.1627 - accuracy: 0.5619 - val_loss: 1.1576 - val_accuracy: 0.5657\n"
          ]
        },
        {
          "output_type": "execute_result",
          "data": {
            "text/plain": [
              "<keras.src.callbacks.History at 0x7faac7ab9cc0>"
            ]
          },
          "metadata": {},
          "execution_count": 50
        }
      ]
    },
    {
      "cell_type": "code",
      "source": [
        "model.save(\"model\")"
      ],
      "metadata": {
        "id": "l-jFKKdhtcCR"
      },
      "execution_count": 51,
      "outputs": []
    }
  ]
}